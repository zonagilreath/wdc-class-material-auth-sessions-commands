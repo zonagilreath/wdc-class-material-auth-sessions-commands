{
 "cells": [
  {
   "cell_type": "markdown",
   "metadata": {},
   "source": [
    "# Back to SQL\n",
    "\n",
    "We're back to working with plain ol' SQL."
   ]
  },
  {
   "cell_type": "code",
   "execution_count": 28,
   "metadata": {},
   "outputs": [],
   "source": [
    "import sqlite3"
   ]
  },
  {
   "cell_type": "code",
   "execution_count": 29,
   "metadata": {},
   "outputs": [],
   "source": [
    "db = sqlite3.connect('library.db')"
   ]
  },
  {
   "cell_type": "markdown",
   "metadata": {},
   "source": [
    "**All our current books**\n",
    "These are our current books in the DB:"
   ]
  },
  {
   "cell_type": "code",
   "execution_count": 4,
   "metadata": {},
   "outputs": [
    {
     "data": {
      "text/plain": [
       "[(1, 3, 'Pride & Prejudice', 'B1'),\n",
       " (2, 4, 'A Study in Scarlet', 'B2'),\n",
       " (3, 3, 'Emma', 'B3'),\n",
       " (8, 1, 'The Raven', 'B4'),\n",
       " (9, 5, 'Ficciones', 'B5')]"
      ]
     },
     "execution_count": 4,
     "metadata": {},
     "output_type": "execute_result"
    }
   ],
   "source": [
    "cursor = db.execute('SELECT * FROM Book')\n",
    "cursor.fetchall()"
   ]
  },
  {
   "cell_type": "markdown",
   "metadata": {},
   "source": [
    "##### Requirement: Add a popularity field to Books\n",
    "\n",
    "We need now to add a new **required** field to the book table: `popularity`. How can we do it? SQL has a simple `ALTER TABLE` command that let's you add the column:"
   ]
  },
  {
   "cell_type": "code",
   "execution_count": 5,
   "metadata": {
    "scrolled": true
   },
   "outputs": [
    {
     "ename": "OperationalError",
     "evalue": "Cannot add a NOT NULL column with default value NULL",
     "output_type": "error",
     "traceback": [
      "\u001b[0;31m---------------------------------------------------------------------------\u001b[0m",
      "\u001b[0;31mOperationalError\u001b[0m                          Traceback (most recent call last)",
      "\u001b[0;32m<ipython-input-5-8a059e4c2fc4>\u001b[0m in \u001b[0;36m<module>\u001b[0;34m()\u001b[0m\n\u001b[0;32m----> 1\u001b[0;31m \u001b[0mdb\u001b[0m\u001b[0;34m.\u001b[0m\u001b[0mexecute\u001b[0m\u001b[0;34m(\u001b[0m\u001b[0;34m'ALTER TABLE Book ADD COLUMN popularity text not null'\u001b[0m\u001b[0;34m)\u001b[0m\u001b[0;34m\u001b[0m\u001b[0m\n\u001b[0m",
      "\u001b[0;31mOperationalError\u001b[0m: Cannot add a NOT NULL column with default value NULL"
     ]
    }
   ],
   "source": [
    "db.execute('ALTER TABLE Book ADD COLUMN popularity text not null')"
   ]
  },
  {
   "cell_type": "markdown",
   "metadata": {},
   "source": [
    "But as the column is required (`NOT NULL`), the command fails. We either need to specify a default value, or make it `NULL`able (which **is not** our requirement). Let's start with the first option, for simplicity:"
   ]
  },
  {
   "cell_type": "code",
   "execution_count": 6,
   "metadata": {},
   "outputs": [
    {
     "data": {
      "text/plain": [
       "<sqlite3.Cursor at 0x10e9343b0>"
      ]
     },
     "execution_count": 6,
     "metadata": {},
     "output_type": "execute_result"
    }
   ],
   "source": [
    "db.execute('ALTER TABLE Book ADD COLUMN popularity text not null default 1.99')"
   ]
  },
  {
   "cell_type": "markdown",
   "metadata": {},
   "source": [
    "That seems to work... Let's explore all our books:"
   ]
  },
  {
   "cell_type": "code",
   "execution_count": 7,
   "metadata": {
    "scrolled": true
   },
   "outputs": [
    {
     "data": {
      "text/plain": [
       "[(1, 3, 'Pride & Prejudice', 'B1', '1.99'),\n",
       " (2, 4, 'A Study in Scarlet', 'B2', '1.99'),\n",
       " (3, 3, 'Emma', 'B3', '1.99'),\n",
       " (8, 1, 'The Raven', 'B4', '1.99'),\n",
       " (9, 5, 'Ficciones', 'B5', '1.99')]"
      ]
     },
     "execution_count": 7,
     "metadata": {},
     "output_type": "execute_result"
    }
   ],
   "source": [
    "cursor = db.execute('SELECT * FROM Book')\n",
    "cursor.fetchall()"
   ]
  },
  {
   "cell_type": "markdown",
   "metadata": {},
   "source": [
    "### A more challenging requirement\n",
    "\n",
    "Our requirement now has changed. We can't provide a fixed default value for the new column (`1.99` in our previous example). The value to backfill the current books should be based according to the length of the title. The longer the title, the higher the popularity of the book.  `¯\\_(ツ)_/¯`.\n",
    "\n",
    "**Important:** Make sure you reset the database before trying the following example."
   ]
  },
  {
   "cell_type": "markdown",
   "metadata": {},
   "source": [
    "**Solution**\n",
    "\n",
    "In this case we could create the new column as `NULL`able, insert the popularities, and then make it `NOT NULL`. The process would be as follows:"
   ]
  },
  {
   "cell_type": "code",
   "execution_count": 31,
   "metadata": {},
   "outputs": [],
   "source": [
    "db = sqlite3.connect('library.db')"
   ]
  },
  {
   "cell_type": "markdown",
   "metadata": {},
   "source": [
    "**Step 1: ALTER TABLE nullable**"
   ]
  },
  {
   "cell_type": "code",
   "execution_count": 30,
   "metadata": {},
   "outputs": [
    {
     "data": {
      "text/plain": [
       "<sqlite3.Cursor at 0x10e9f1260>"
      ]
     },
     "execution_count": 30,
     "metadata": {},
     "output_type": "execute_result"
    }
   ],
   "source": [
    "db.execute('ALTER TABLE Book ADD COLUMN popularity text')"
   ]
  },
  {
   "cell_type": "markdown",
   "metadata": {},
   "source": [
    "**Step 2: Compute popularity for each book**"
   ]
  },
  {
   "cell_type": "code",
   "execution_count": 25,
   "metadata": {},
   "outputs": [],
   "source": [
    "def popularity(books):\n",
    "    title_lengths = [len(title) for id, title in books]\n",
    "    max_length = max(title_lengths)\n",
    "    popularities = []\n",
    "    for id, title in books:\n",
    "        popularity = round(len(title) / max_length * 5, 2)\n",
    "        popularities.append((id, title, popularity))\n",
    "    return popularities"
   ]
  },
  {
   "cell_type": "code",
   "execution_count": 15,
   "metadata": {},
   "outputs": [
    {
     "data": {
      "text/plain": [
       "[(1, 'Pride & Prejudice'),\n",
       " (2, 'A Study in Scarlet'),\n",
       " (3, 'Emma'),\n",
       " (8, 'The Raven'),\n",
       " (9, 'Ficciones')]"
      ]
     },
     "execution_count": 15,
     "metadata": {},
     "output_type": "execute_result"
    }
   ],
   "source": [
    "cursor = db.execute('SELECT id, title FROM Book')\n",
    "cursor.fetchall()"
   ]
  },
  {
   "cell_type": "code",
   "execution_count": 32,
   "metadata": {},
   "outputs": [
    {
     "data": {
      "text/plain": [
       "[(1, 'Pride & Prejudice', 4.72),\n",
       " (2, 'A Study in Scarlet', 5.0),\n",
       " (3, 'Emma', 1.11),\n",
       " (8, 'The Raven', 2.5),\n",
       " (9, 'Ficciones', 2.5)]"
      ]
     },
     "execution_count": 32,
     "metadata": {},
     "output_type": "execute_result"
    }
   ],
   "source": [
    "cursor = db.execute('SELECT id, title FROM Book')\n",
    "popularity = popularity(cursor.fetchall())\n",
    "popularity"
   ]
  },
  {
   "cell_type": "markdown",
   "metadata": {},
   "source": [
    "**Step 3: Update each book with its corresponding popularity**"
   ]
  },
  {
   "cell_type": "code",
   "execution_count": 34,
   "metadata": {},
   "outputs": [],
   "source": [
    "for id, name, pop in popularity:\n",
    "    db.execute('UPDATE Book SET (popularity) = (:pop) WHERE id = :id', {\n",
    "        'id': id,\n",
    "        'pop': pop\n",
    "    })\n"
   ]
  },
  {
   "cell_type": "markdown",
   "metadata": {},
   "source": [
    "Check popularities are correctly set:"
   ]
  },
  {
   "cell_type": "code",
   "execution_count": 35,
   "metadata": {},
   "outputs": [
    {
     "data": {
      "text/plain": [
       "[(1, 'Pride & Prejudice', '4.72'),\n",
       " (2, 'A Study in Scarlet', '5.0'),\n",
       " (3, 'Emma', '1.11'),\n",
       " (8, 'The Raven', '2.5'),\n",
       " (9, 'Ficciones', '2.5')]"
      ]
     },
     "execution_count": 35,
     "metadata": {},
     "output_type": "execute_result"
    }
   ],
   "source": [
    "cursor = db.execute('SELECT id, title, popularity FROM Book')\n",
    "cursor.fetchall()"
   ]
  },
  {
   "cell_type": "markdown",
   "metadata": {},
   "source": [
    "**Step 4: Make the column `NOT NULL`**\n",
    "\n",
    "Homework. This is too complicated 😅.\n",
    "\n",
    "Let's better use Django's ORM..."
   ]
  }
 ],
 "metadata": {
  "kernelspec": {
   "display_name": "Python 3",
   "language": "python",
   "name": "python3"
  },
  "language_info": {
   "codemirror_mode": {
    "name": "ipython",
    "version": 3
   },
   "file_extension": ".py",
   "mimetype": "text/x-python",
   "name": "python",
   "nbconvert_exporter": "python",
   "pygments_lexer": "ipython3",
   "version": "3.6.4"
  }
 },
 "nbformat": 4,
 "nbformat_minor": 2
}
